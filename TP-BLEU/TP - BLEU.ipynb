{
 "cells": [
  {
   "cell_type": "markdown",
   "metadata": {},
   "source": [
    "# BLEU: Method forAutomatic Evaluation of Machine Translation"
   ]
  },
  {
   "cell_type": "markdown",
   "metadata": {},
   "source": [
    "## Fabrication de l'hypothèse"
   ]
  },
  {
   "cell_type": "markdown",
   "metadata": {},
   "source": [
    "Tout d'abod on télécharge un corpus anglais-français et on prendra 200 lignes de ce corpus. Nous utiliserons le corpus anglais en tant que source et le français en tant que corpus théorique. Nous ferons donc une hypothèse de traduction avec Google Traduction."
   ]
  },
  {
   "cell_type": "code",
   "execution_count": 15,
   "metadata": {},
   "outputs": [],
   "source": [
    "import numpy as np\n",
    "\n",
    "fileSource = open(\"europarl-v7.fr-en.en\", \"r\")\n",
    "fileTarget = open(\"europarl-v7.fr-en.fr\", \"r\")\n",
    "fileHypo = open(\"hypothese-GoogleTrad-fr\", \"r\")\n",
    "\n",
    "# Fonction qui supprime la ponctuation d'un corpus\n",
    "def suppPonct( uneLigne ):\n",
    "    chars = [\",\",\";\",\".\",\"?\",\"!\",\":\",]\n",
    "    for char in chars:\n",
    "        uneLigne = uneLigne.replace(char,\"\")\n",
    "    return uneLigne\n",
    "\n",
    "N = 200\n",
    "source = [next(fileSource) for x in range(N)]\n",
    "reference = [next(fileTarget) for x in range(N)]\n",
    "hypoGoogle = fileHypo.read().split(\"\\n\\n\")"
   ]
  },
  {
   "cell_type": "markdown",
   "metadata": {},
   "source": [
    "## Calcul précision par ligne"
   ]
  },
  {
   "cell_type": "code",
   "execution_count": 16,
   "metadata": {},
   "outputs": [],
   "source": [
    "# Retourne la liste des nGrams en fonction d'un n et d'une phrase\n",
    "def getList_nGram( n, unePhrase ):\n",
    "    #Remove \\n at the end\n",
    "    unePhrase = suppPonct(unePhrase).split(\" \")\n",
    "    unePhrase[-1] = unePhrase[-1].rstrip()\n",
    "    liste = []\n",
    "    \n",
    "    for i in range(0, (len(unePhrase)-n+1)):\n",
    "        ngram = []\n",
    "        for y in range(0,n):\n",
    "            ngram.append(unePhrase[i+y])\n",
    "            \n",
    "        liste.append(ngram)\n",
    "        \n",
    "    return liste"
   ]
  },
  {
   "cell_type": "code",
   "execution_count": 24,
   "metadata": {},
   "outputs": [],
   "source": [
    "# Return the global accuracy of the test in with nGram\n",
    "def getAccuracy_nGram( n ):\n",
    "    \n",
    "    # Accuracy list of sentences\n",
    "    acc = []\n",
    "    for y in range(0,N):\n",
    "        \n",
    "        tempHypo = getList_nGram( n, hypoGoogle[y])\n",
    "        # Check if the list is not empty\n",
    "        if not not tempHypo:\n",
    "            tempRef = getList_nGram( n, reference[y])        \n",
    "\n",
    "            good = 0\n",
    "            for i in range(0,len(tempHypo)):\n",
    "                if tempHypo[i] in tempRef:\n",
    "                    good += 1\n",
    "            acc.append(good/len(tempHypo))\n",
    "    \n",
    "    return np.mean(acc)"
   ]
  },
  {
   "cell_type": "code",
   "execution_count": 25,
   "metadata": {},
   "outputs": [],
   "source": [
    "# Return the bleu score\n",
    "def getBleuScore():\n",
    "    nGramAccuracy = []\n",
    "    # Calculate the accuracies from 1Grams to 4Grams\n",
    "    for i in range(1,5):\n",
    "        nGramAccuracy.append(getAccuracy_nGram(i))\n",
    "        \n",
    "    # riase product of nGrams to power 1/4 give the BLEU score\n",
    "    return np.power( np.prod(nGramAccuracy), 1/4 )"
   ]
  },
  {
   "cell_type": "code",
   "execution_count": 32,
   "metadata": {},
   "outputs": [
    {
     "name": "stdout",
     "output_type": "stream",
     "text": [
      "Score BLEU Google Traduction sur 200 lignes Anglais -> Français:  32.28 %\n"
     ]
    }
   ],
   "source": [
    "print( \"Score BLEU Google Traduction sur 200 lignes Anglais -> Français: \", round(getBleuScore()*100, 2), \"%\" )"
   ]
  },
  {
   "cell_type": "code",
   "execution_count": null,
   "metadata": {},
   "outputs": [],
   "source": []
  }
 ],
 "metadata": {
  "kernelspec": {
   "display_name": "Python 3",
   "language": "python",
   "name": "python3"
  },
  "language_info": {
   "codemirror_mode": {
    "name": "ipython",
    "version": 3
   },
   "file_extension": ".py",
   "mimetype": "text/x-python",
   "name": "python",
   "nbconvert_exporter": "python",
   "pygments_lexer": "ipython3",
   "version": "3.6.5"
  }
 },
 "nbformat": 4,
 "nbformat_minor": 2
}
